{
 "cells": [
  {
   "cell_type": "code",
   "execution_count": 26,
   "metadata": {},
   "outputs": [],
   "source": [
    "import numpy as np\n",
    "import pandas as pd\n",
    "import matplotlib.pyplot as plt\n",
    "\n",
    "plt.rcParams[\"figure.figsize\"] = (20,10)"
   ]
  },
  {
   "cell_type": "code",
   "execution_count": 2,
   "metadata": {},
   "outputs": [],
   "source": [
    "df_orig = pd.read_csv(\"weatherAUS.csv\") #importing the dataset\n",
    "df_orig['Date'] = pd.to_datetime(df_orig['Date']) #transform date column into a datetime format (year-month-day) "
   ]
  },
  {
   "cell_type": "code",
   "execution_count": 3,
   "metadata": {},
   "outputs": [
    {
     "data": {
      "text/html": [
       "<div>\n",
       "<style scoped>\n",
       "    .dataframe tbody tr th:only-of-type {\n",
       "        vertical-align: middle;\n",
       "    }\n",
       "\n",
       "    .dataframe tbody tr th {\n",
       "        vertical-align: top;\n",
       "    }\n",
       "\n",
       "    .dataframe thead th {\n",
       "        text-align: right;\n",
       "    }\n",
       "</style>\n",
       "<table border=\"1\" class=\"dataframe\">\n",
       "  <thead>\n",
       "    <tr style=\"text-align: right;\">\n",
       "      <th></th>\n",
       "      <th>Date</th>\n",
       "      <th>Location</th>\n",
       "      <th>MinTemp</th>\n",
       "      <th>MaxTemp</th>\n",
       "      <th>Rainfall</th>\n",
       "      <th>Evaporation</th>\n",
       "      <th>Sunshine</th>\n",
       "      <th>WindGustDir</th>\n",
       "      <th>WindGustSpeed</th>\n",
       "      <th>WindDir9am</th>\n",
       "      <th>...</th>\n",
       "      <th>Humidity3pm</th>\n",
       "      <th>Pressure9am</th>\n",
       "      <th>Pressure3pm</th>\n",
       "      <th>Cloud9am</th>\n",
       "      <th>Cloud3pm</th>\n",
       "      <th>Temp9am</th>\n",
       "      <th>Temp3pm</th>\n",
       "      <th>RainToday</th>\n",
       "      <th>RISK_MM</th>\n",
       "      <th>RainTomorrow</th>\n",
       "    </tr>\n",
       "  </thead>\n",
       "  <tbody>\n",
       "    <tr>\n",
       "      <td>0</td>\n",
       "      <td>2008-12-01</td>\n",
       "      <td>Albury</td>\n",
       "      <td>13.4</td>\n",
       "      <td>22.9</td>\n",
       "      <td>0.6</td>\n",
       "      <td>NaN</td>\n",
       "      <td>NaN</td>\n",
       "      <td>W</td>\n",
       "      <td>44.0</td>\n",
       "      <td>W</td>\n",
       "      <td>...</td>\n",
       "      <td>22.0</td>\n",
       "      <td>1007.7</td>\n",
       "      <td>1007.1</td>\n",
       "      <td>8.0</td>\n",
       "      <td>NaN</td>\n",
       "      <td>16.9</td>\n",
       "      <td>21.8</td>\n",
       "      <td>No</td>\n",
       "      <td>0.0</td>\n",
       "      <td>No</td>\n",
       "    </tr>\n",
       "    <tr>\n",
       "      <td>1</td>\n",
       "      <td>2008-12-02</td>\n",
       "      <td>Albury</td>\n",
       "      <td>7.4</td>\n",
       "      <td>25.1</td>\n",
       "      <td>0.0</td>\n",
       "      <td>NaN</td>\n",
       "      <td>NaN</td>\n",
       "      <td>WNW</td>\n",
       "      <td>44.0</td>\n",
       "      <td>NNW</td>\n",
       "      <td>...</td>\n",
       "      <td>25.0</td>\n",
       "      <td>1010.6</td>\n",
       "      <td>1007.8</td>\n",
       "      <td>NaN</td>\n",
       "      <td>NaN</td>\n",
       "      <td>17.2</td>\n",
       "      <td>24.3</td>\n",
       "      <td>No</td>\n",
       "      <td>0.0</td>\n",
       "      <td>No</td>\n",
       "    </tr>\n",
       "    <tr>\n",
       "      <td>2</td>\n",
       "      <td>2008-12-03</td>\n",
       "      <td>Albury</td>\n",
       "      <td>12.9</td>\n",
       "      <td>25.7</td>\n",
       "      <td>0.0</td>\n",
       "      <td>NaN</td>\n",
       "      <td>NaN</td>\n",
       "      <td>WSW</td>\n",
       "      <td>46.0</td>\n",
       "      <td>W</td>\n",
       "      <td>...</td>\n",
       "      <td>30.0</td>\n",
       "      <td>1007.6</td>\n",
       "      <td>1008.7</td>\n",
       "      <td>NaN</td>\n",
       "      <td>2.0</td>\n",
       "      <td>21.0</td>\n",
       "      <td>23.2</td>\n",
       "      <td>No</td>\n",
       "      <td>0.0</td>\n",
       "      <td>No</td>\n",
       "    </tr>\n",
       "    <tr>\n",
       "      <td>3</td>\n",
       "      <td>2008-12-04</td>\n",
       "      <td>Albury</td>\n",
       "      <td>9.2</td>\n",
       "      <td>28.0</td>\n",
       "      <td>0.0</td>\n",
       "      <td>NaN</td>\n",
       "      <td>NaN</td>\n",
       "      <td>NE</td>\n",
       "      <td>24.0</td>\n",
       "      <td>SE</td>\n",
       "      <td>...</td>\n",
       "      <td>16.0</td>\n",
       "      <td>1017.6</td>\n",
       "      <td>1012.8</td>\n",
       "      <td>NaN</td>\n",
       "      <td>NaN</td>\n",
       "      <td>18.1</td>\n",
       "      <td>26.5</td>\n",
       "      <td>No</td>\n",
       "      <td>1.0</td>\n",
       "      <td>No</td>\n",
       "    </tr>\n",
       "    <tr>\n",
       "      <td>4</td>\n",
       "      <td>2008-12-05</td>\n",
       "      <td>Albury</td>\n",
       "      <td>17.5</td>\n",
       "      <td>32.3</td>\n",
       "      <td>1.0</td>\n",
       "      <td>NaN</td>\n",
       "      <td>NaN</td>\n",
       "      <td>W</td>\n",
       "      <td>41.0</td>\n",
       "      <td>ENE</td>\n",
       "      <td>...</td>\n",
       "      <td>33.0</td>\n",
       "      <td>1010.8</td>\n",
       "      <td>1006.0</td>\n",
       "      <td>7.0</td>\n",
       "      <td>8.0</td>\n",
       "      <td>17.8</td>\n",
       "      <td>29.7</td>\n",
       "      <td>No</td>\n",
       "      <td>0.2</td>\n",
       "      <td>No</td>\n",
       "    </tr>\n",
       "  </tbody>\n",
       "</table>\n",
       "<p>5 rows × 24 columns</p>\n",
       "</div>"
      ],
      "text/plain": [
       "        Date Location  MinTemp  MaxTemp  Rainfall  Evaporation  Sunshine  \\\n",
       "0 2008-12-01   Albury     13.4     22.9       0.6          NaN       NaN   \n",
       "1 2008-12-02   Albury      7.4     25.1       0.0          NaN       NaN   \n",
       "2 2008-12-03   Albury     12.9     25.7       0.0          NaN       NaN   \n",
       "3 2008-12-04   Albury      9.2     28.0       0.0          NaN       NaN   \n",
       "4 2008-12-05   Albury     17.5     32.3       1.0          NaN       NaN   \n",
       "\n",
       "  WindGustDir  WindGustSpeed WindDir9am  ... Humidity3pm  Pressure9am  \\\n",
       "0           W           44.0          W  ...        22.0       1007.7   \n",
       "1         WNW           44.0        NNW  ...        25.0       1010.6   \n",
       "2         WSW           46.0          W  ...        30.0       1007.6   \n",
       "3          NE           24.0         SE  ...        16.0       1017.6   \n",
       "4           W           41.0        ENE  ...        33.0       1010.8   \n",
       "\n",
       "   Pressure3pm  Cloud9am  Cloud3pm  Temp9am  Temp3pm  RainToday  RISK_MM  \\\n",
       "0       1007.1       8.0       NaN     16.9     21.8         No      0.0   \n",
       "1       1007.8       NaN       NaN     17.2     24.3         No      0.0   \n",
       "2       1008.7       NaN       2.0     21.0     23.2         No      0.0   \n",
       "3       1012.8       NaN       NaN     18.1     26.5         No      1.0   \n",
       "4       1006.0       7.0       8.0     17.8     29.7         No      0.2   \n",
       "\n",
       "   RainTomorrow  \n",
       "0            No  \n",
       "1            No  \n",
       "2            No  \n",
       "3            No  \n",
       "4            No  \n",
       "\n",
       "[5 rows x 24 columns]"
      ]
     },
     "execution_count": 3,
     "metadata": {},
     "output_type": "execute_result"
    }
   ],
   "source": [
    "df_orig.head() #getting a preview of the first 5 rows in the dataset"
   ]
  },
  {
   "cell_type": "markdown",
   "metadata": {},
   "source": [
    "# Data Preprocessing"
   ]
  },
  {
   "cell_type": "code",
   "execution_count": 4,
   "metadata": {},
   "outputs": [],
   "source": [
    "# Drop RISK_MM as it will bias our model.\n",
    "df = df_orig.drop('RISK_MM', axis=1)"
   ]
  },
  {
   "cell_type": "markdown",
   "metadata": {},
   "source": [
    "RISK_MM (amount of rainfall in mm for the next day) should be dropped from the dataset because it contains information directly related to our target variable (RainTomorrow)."
   ]
  },
  {
   "cell_type": "code",
   "execution_count": 5,
   "metadata": {},
   "outputs": [
    {
     "data": {
      "text/plain": [
       "Sunshine         0.476929\n",
       "Evaporation      0.427890\n",
       "Cloud3pm         0.401525\n",
       "Cloud9am         0.377353\n",
       "Pressure9am      0.098556\n",
       "Pressure3pm      0.098324\n",
       "WindDir9am       0.070418\n",
       "WindGustDir      0.065615\n",
       "WindGustSpeed    0.065193\n",
       "WindDir3pm       0.026570\n",
       "Humidity3pm      0.025388\n",
       "Temp3pm          0.019171\n",
       "WindSpeed3pm     0.018496\n",
       "Humidity9am      0.012476\n",
       "Rainfall         0.009888\n",
       "RainToday        0.009888\n",
       "WindSpeed9am     0.009480\n",
       "Temp9am          0.006358\n",
       "MinTemp          0.004480\n",
       "MaxTemp          0.002265\n",
       "Location         0.000000\n",
       "RainTomorrow     0.000000\n",
       "Date             0.000000\n",
       "dtype: float64"
      ]
     },
     "execution_count": 5,
     "metadata": {},
     "output_type": "execute_result"
    }
   ],
   "source": [
    "df.isna().sum().sort_values(ascending=False) / len(df_orig)"
   ]
  },
  {
   "cell_type": "code",
   "execution_count": 6,
   "metadata": {},
   "outputs": [],
   "source": [
    "# Replace NaN values with median of the columns\n",
    "df.fillna(df.median(), inplace=True)"
   ]
  },
  {
   "cell_type": "markdown",
   "metadata": {},
   "source": [
    "We notice that our columns have missing values. 'Sunshine', 'Evaporation', 'Cloud3pm', 'Cloud9am' have a significant amount of missing values\n",
    "\n",
    "In order to get rid of these missing values, I decided to replace them with the median of their respective column."
   ]
  },
  {
   "cell_type": "code",
   "execution_count": 7,
   "metadata": {},
   "outputs": [
    {
     "data": {
      "text/plain": [
       "WindDir9am       0.070418\n",
       "WindGustDir      0.065615\n",
       "WindDir3pm       0.026570\n",
       "RainToday        0.009888\n",
       "RainTomorrow     0.000000\n",
       "Location         0.000000\n",
       "MinTemp          0.000000\n",
       "MaxTemp          0.000000\n",
       "Rainfall         0.000000\n",
       "Evaporation      0.000000\n",
       "Sunshine         0.000000\n",
       "WindGustSpeed    0.000000\n",
       "WindSpeed9am     0.000000\n",
       "WindSpeed3pm     0.000000\n",
       "Humidity9am      0.000000\n",
       "Humidity3pm      0.000000\n",
       "Pressure9am      0.000000\n",
       "Pressure3pm      0.000000\n",
       "Cloud9am         0.000000\n",
       "Cloud3pm         0.000000\n",
       "Temp9am          0.000000\n",
       "Temp3pm          0.000000\n",
       "Date             0.000000\n",
       "dtype: float64"
      ]
     },
     "execution_count": 7,
     "metadata": {},
     "output_type": "execute_result"
    }
   ],
   "source": [
    "df.isna().sum().sort_values(ascending=False) / len(df_orig)"
   ]
  },
  {
   "cell_type": "markdown",
   "metadata": {},
   "source": [
    "Notice that we still have missing values. These are missing from rows that contain categorical values and for which we couldn't compute a median.\n",
    "\n",
    "For these values, it makes more sense to replace the missing value with the last known value. For example, if we are missing the wind direction for a day, it is fair to assume that it has stayed the same as the previous day."
   ]
  },
  {
   "cell_type": "code",
   "execution_count": 8,
   "metadata": {},
   "outputs": [],
   "source": [
    "# Replace categorical values with value in previous row using forward fill \n",
    "categorical_cols = ['WindGustDir', 'Location', 'WindDir9am', 'WindDir3pm']\n",
    "df[categorical_cols + ['RainToday']] = df[categorical_cols + ['RainToday']].fillna(method='ffill')"
   ]
  },
  {
   "cell_type": "markdown",
   "metadata": {},
   "source": [
    "# Feature Engineering"
   ]
  },
  {
   "cell_type": "code",
   "execution_count": 9,
   "metadata": {},
   "outputs": [],
   "source": [
    "# Split the Date column into Day, Month and Year columns.\n",
    "df['Day'] = df['Date'].dt.day\n",
    "df['Month'] = df['Date'].dt.month\n",
    "df['Year'] = df['Date'].dt.year\n",
    "\n",
    "# Drop the original Date column.\n",
    "df.drop(['Date'], axis=1, inplace=True)"
   ]
  },
  {
   "cell_type": "markdown",
   "metadata": {},
   "source": [
    "The model won't pick up seasonal patterns that are represented by the month and day if we leave the date as one string feature. Instead, we split it into three different features: day, month and year. This is very useful since it will be more likely to rain in some months than others."
   ]
  },
  {
   "cell_type": "code",
   "execution_count": 10,
   "metadata": {},
   "outputs": [],
   "source": [
    "# Convert categorical columns into one-hot encoded vectors\n",
    "df = pd.get_dummies(df, columns=categorical_cols)\n",
    "\n",
    "# Replace boolean with int vals\n",
    "rain_bool_cols = [\"RainToday\", \"RainTomorrow\"]\n",
    "df[rain_bool_cols] = df[rain_bool_cols].replace({'Yes':1, 'No':0})"
   ]
  },
  {
   "cell_type": "markdown",
   "metadata": {},
   "source": [
    "Here we convert the categorical columns found into one-hot encoded vectors.\n",
    "\n",
    "We also notice that some columns (RainToday, RainTomorrow) have boolean values (yes/no), we simply replace them with int values (0, 1 respectively).\n",
    "\n"
   ]
  },
  {
   "cell_type": "code",
   "execution_count": 11,
   "metadata": {
    "scrolled": true
   },
   "outputs": [
    {
     "name": "stdout",
     "output_type": "stream",
     "text": [
      "Number of columns in original dataframe: 24.\n",
      "Number of columns in new dataframe: 118.\n",
      "\n",
      "WinDir9am column expanded into: WindDir9am_E, WindDir9am_ENE, WindDir9am_ESE, WindDir9am_N, WindDir9am_NE, WindDir9am_NNE, WindDir9am_NNW, WindDir9am_NW, WindDir9am_S, WindDir9am_SE, WindDir9am_SSE, WindDir9am_SSW, WindDir9am_SW, WindDir9am_W, WindDir9am_WNW, WindDir9am_WSW\n"
     ]
    }
   ],
   "source": [
    "print('Number of columns in original dataframe: %s.' % len(df_orig.columns))\n",
    "print('Number of columns in new dataframe: %s.\\n' % len(df.columns))\n",
    "\n",
    "windir_cols = [colname for colname in df.columns if \"WindDir9am\" in colname]\n",
    "print(\"WinDir9am column expanded into: %s\" % ', '.join(windir_cols))"
   ]
  },
  {
   "cell_type": "markdown",
   "metadata": {},
   "source": [
    "The number of columns naturally increased with one-hot encoding."
   ]
  },
  {
   "cell_type": "markdown",
   "metadata": {},
   "source": [
    "# Normalizing Data"
   ]
  },
  {
   "cell_type": "code",
   "execution_count": 12,
   "metadata": {},
   "outputs": [
    {
     "data": {
      "text/html": [
       "<div>\n",
       "<style scoped>\n",
       "    .dataframe tbody tr th:only-of-type {\n",
       "        vertical-align: middle;\n",
       "    }\n",
       "\n",
       "    .dataframe tbody tr th {\n",
       "        vertical-align: top;\n",
       "    }\n",
       "\n",
       "    .dataframe thead th {\n",
       "        text-align: right;\n",
       "    }\n",
       "</style>\n",
       "<table border=\"1\" class=\"dataframe\">\n",
       "  <thead>\n",
       "    <tr style=\"text-align: right;\">\n",
       "      <th></th>\n",
       "      <th>MinTemp</th>\n",
       "      <th>MaxTemp</th>\n",
       "      <th>Rainfall</th>\n",
       "      <th>Evaporation</th>\n",
       "      <th>Sunshine</th>\n",
       "      <th>WindGustSpeed</th>\n",
       "      <th>WindSpeed9am</th>\n",
       "      <th>WindSpeed3pm</th>\n",
       "      <th>Humidity9am</th>\n",
       "      <th>Humidity3pm</th>\n",
       "      <th>...</th>\n",
       "      <th>WindDir3pm_NNW</th>\n",
       "      <th>WindDir3pm_NW</th>\n",
       "      <th>WindDir3pm_S</th>\n",
       "      <th>WindDir3pm_SE</th>\n",
       "      <th>WindDir3pm_SSE</th>\n",
       "      <th>WindDir3pm_SSW</th>\n",
       "      <th>WindDir3pm_SW</th>\n",
       "      <th>WindDir3pm_W</th>\n",
       "      <th>WindDir3pm_WNW</th>\n",
       "      <th>WindDir3pm_WSW</th>\n",
       "    </tr>\n",
       "  </thead>\n",
       "  <tbody>\n",
       "    <tr>\n",
       "      <td>0</td>\n",
       "      <td>0.516509</td>\n",
       "      <td>0.523629</td>\n",
       "      <td>0.001617</td>\n",
       "      <td>0.033103</td>\n",
       "      <td>0.586207</td>\n",
       "      <td>0.294574</td>\n",
       "      <td>0.153846</td>\n",
       "      <td>0.275862</td>\n",
       "      <td>0.71</td>\n",
       "      <td>0.22</td>\n",
       "      <td>...</td>\n",
       "      <td>0.0</td>\n",
       "      <td>0.0</td>\n",
       "      <td>0.0</td>\n",
       "      <td>0.0</td>\n",
       "      <td>0.0</td>\n",
       "      <td>0.0</td>\n",
       "      <td>0.0</td>\n",
       "      <td>0.0</td>\n",
       "      <td>1.0</td>\n",
       "      <td>0.0</td>\n",
       "    </tr>\n",
       "    <tr>\n",
       "      <td>1</td>\n",
       "      <td>0.375000</td>\n",
       "      <td>0.565217</td>\n",
       "      <td>0.000000</td>\n",
       "      <td>0.033103</td>\n",
       "      <td>0.586207</td>\n",
       "      <td>0.294574</td>\n",
       "      <td>0.030769</td>\n",
       "      <td>0.252874</td>\n",
       "      <td>0.44</td>\n",
       "      <td>0.25</td>\n",
       "      <td>...</td>\n",
       "      <td>0.0</td>\n",
       "      <td>0.0</td>\n",
       "      <td>0.0</td>\n",
       "      <td>0.0</td>\n",
       "      <td>0.0</td>\n",
       "      <td>0.0</td>\n",
       "      <td>0.0</td>\n",
       "      <td>0.0</td>\n",
       "      <td>0.0</td>\n",
       "      <td>1.0</td>\n",
       "    </tr>\n",
       "    <tr>\n",
       "      <td>2</td>\n",
       "      <td>0.504717</td>\n",
       "      <td>0.576560</td>\n",
       "      <td>0.000000</td>\n",
       "      <td>0.033103</td>\n",
       "      <td>0.586207</td>\n",
       "      <td>0.310078</td>\n",
       "      <td>0.146154</td>\n",
       "      <td>0.298851</td>\n",
       "      <td>0.38</td>\n",
       "      <td>0.30</td>\n",
       "      <td>...</td>\n",
       "      <td>0.0</td>\n",
       "      <td>0.0</td>\n",
       "      <td>0.0</td>\n",
       "      <td>0.0</td>\n",
       "      <td>0.0</td>\n",
       "      <td>0.0</td>\n",
       "      <td>0.0</td>\n",
       "      <td>0.0</td>\n",
       "      <td>0.0</td>\n",
       "      <td>1.0</td>\n",
       "    </tr>\n",
       "    <tr>\n",
       "      <td>3</td>\n",
       "      <td>0.417453</td>\n",
       "      <td>0.620038</td>\n",
       "      <td>0.000000</td>\n",
       "      <td>0.033103</td>\n",
       "      <td>0.586207</td>\n",
       "      <td>0.139535</td>\n",
       "      <td>0.084615</td>\n",
       "      <td>0.103448</td>\n",
       "      <td>0.45</td>\n",
       "      <td>0.16</td>\n",
       "      <td>...</td>\n",
       "      <td>0.0</td>\n",
       "      <td>0.0</td>\n",
       "      <td>0.0</td>\n",
       "      <td>0.0</td>\n",
       "      <td>0.0</td>\n",
       "      <td>0.0</td>\n",
       "      <td>0.0</td>\n",
       "      <td>0.0</td>\n",
       "      <td>0.0</td>\n",
       "      <td>0.0</td>\n",
       "    </tr>\n",
       "    <tr>\n",
       "      <td>4</td>\n",
       "      <td>0.613208</td>\n",
       "      <td>0.701323</td>\n",
       "      <td>0.002695</td>\n",
       "      <td>0.033103</td>\n",
       "      <td>0.586207</td>\n",
       "      <td>0.271318</td>\n",
       "      <td>0.053846</td>\n",
       "      <td>0.229885</td>\n",
       "      <td>0.82</td>\n",
       "      <td>0.33</td>\n",
       "      <td>...</td>\n",
       "      <td>0.0</td>\n",
       "      <td>1.0</td>\n",
       "      <td>0.0</td>\n",
       "      <td>0.0</td>\n",
       "      <td>0.0</td>\n",
       "      <td>0.0</td>\n",
       "      <td>0.0</td>\n",
       "      <td>0.0</td>\n",
       "      <td>0.0</td>\n",
       "      <td>0.0</td>\n",
       "    </tr>\n",
       "  </tbody>\n",
       "</table>\n",
       "<p>5 rows × 118 columns</p>\n",
       "</div>"
      ],
      "text/plain": [
       "    MinTemp   MaxTemp  Rainfall  Evaporation  Sunshine  WindGustSpeed  \\\n",
       "0  0.516509  0.523629  0.001617     0.033103  0.586207       0.294574   \n",
       "1  0.375000  0.565217  0.000000     0.033103  0.586207       0.294574   \n",
       "2  0.504717  0.576560  0.000000     0.033103  0.586207       0.310078   \n",
       "3  0.417453  0.620038  0.000000     0.033103  0.586207       0.139535   \n",
       "4  0.613208  0.701323  0.002695     0.033103  0.586207       0.271318   \n",
       "\n",
       "   WindSpeed9am  WindSpeed3pm  Humidity9am  Humidity3pm  ...  WindDir3pm_NNW  \\\n",
       "0      0.153846      0.275862         0.71         0.22  ...             0.0   \n",
       "1      0.030769      0.252874         0.44         0.25  ...             0.0   \n",
       "2      0.146154      0.298851         0.38         0.30  ...             0.0   \n",
       "3      0.084615      0.103448         0.45         0.16  ...             0.0   \n",
       "4      0.053846      0.229885         0.82         0.33  ...             0.0   \n",
       "\n",
       "   WindDir3pm_NW  WindDir3pm_S  WindDir3pm_SE  WindDir3pm_SSE  WindDir3pm_SSW  \\\n",
       "0            0.0           0.0            0.0             0.0             0.0   \n",
       "1            0.0           0.0            0.0             0.0             0.0   \n",
       "2            0.0           0.0            0.0             0.0             0.0   \n",
       "3            0.0           0.0            0.0             0.0             0.0   \n",
       "4            1.0           0.0            0.0             0.0             0.0   \n",
       "\n",
       "   WindDir3pm_SW  WindDir3pm_W  WindDir3pm_WNW  WindDir3pm_WSW  \n",
       "0            0.0           0.0             1.0             0.0  \n",
       "1            0.0           0.0             0.0             1.0  \n",
       "2            0.0           0.0             0.0             1.0  \n",
       "3            0.0           0.0             0.0             0.0  \n",
       "4            0.0           0.0             0.0             0.0  \n",
       "\n",
       "[5 rows x 118 columns]"
      ]
     },
     "execution_count": 12,
     "metadata": {},
     "output_type": "execute_result"
    }
   ],
   "source": [
    "from sklearn.preprocessing import MinMaxScaler\n",
    "scaler = MinMaxScaler()\n",
    "scaler.fit(df)\n",
    "df = pd.DataFrame(scaler.transform(df), index=df.index, columns=df.columns)\n",
    "df.head()"
   ]
  },
  {
   "cell_type": "markdown",
   "metadata": {},
   "source": [
    "To normalize data, I used sklearn library that already contains built-in scikit-learn methods such as MinMaxScaler, RobustScaler, Normalizer, etc. \n",
    "\n",
    "The reason we normalize data is that features have different units and for that reason different scales. Transforming data to have a similar scale definitely helps in the performance of the model. I opted for MinMaxScaler where the range returned is between 0 and 1."
   ]
  },
  {
   "cell_type": "markdown",
   "metadata": {},
   "source": [
    "# Training "
   ]
  },
  {
   "cell_type": "code",
   "execution_count": 13,
   "metadata": {},
   "outputs": [],
   "source": [
    "def get_accuracy(y, y_hat):\n",
    "    # flatten both vectors to make sure they have 1 column\n",
    "    y = y.flatten()\n",
    "    y_hat = y_hat.flatten()\n",
    "    n_correct = np.sum(y == y_hat)\n",
    "    return n_correct / y.size\n",
    "\n",
    "def to_bool(y):\n",
    "    return np.around(y)\n",
    "\n",
    "def initialize(dim):\n",
    "    b = 0\n",
    "    w = np.random.rand(dim, 1) \n",
    "    return w, b\n",
    "\n",
    "def sigmoid(s):\n",
    "    return ((1 / (1 + np.exp(-s))))\n",
    "\n",
    "def cross_entropy(y_hat, Y):\n",
    "    \"\"\"y_hat is the predicted value, Y is the real value.\"\"\"\n",
    "    return np.sum(Y * np.log(y_hat) + (1 - Y) * np.log(1 - y_hat))\n",
    "\n",
    "def feed_forward(w, b, X):\n",
    "    \"\"\"returns predicted values for x_test\"\"\"\n",
    "    z = np.dot(w.T, X) + b  # calculate the weighted sum\n",
    "    y_hat = sigmoid(z)  # apply activation function to get prediction\n",
    "    return y_hat\n",
    "\n",
    "def gradient_descent(X, Y, epochs, learning_rate):\n",
    "    n_training, n_weights = np.array(x_train).shape\n",
    "    w, b = initialize(dim=n_weights)\n",
    "    for i in range(epochs):\n",
    "        y_hat = feed_forward(w, b, X)\n",
    "        cost = -(1 / n_training) * cross_entropy(y_hat, Y)\n",
    "        dz = y_hat - Y\n",
    "        dw = (1 / n_training) * np.dot(X, dz.T)\n",
    "        db = (1 / n_training) * np.sum(dz)\n",
    "        w = w - learning_rate * dw\n",
    "        b = b - learning_rate * db\n",
    "    \n",
    "    return w, b"
   ]
  },
  {
   "cell_type": "markdown",
   "metadata": {},
   "source": [
    "In order to minimize the cost function, gradient descent is used. Some of the calculations needed for calculating gradient descent such as cross entropy, feed forward, sigmoid and initialize are implemented as outter functions to make it more clear. Another function get_accuracy is used to calculate the accuracy of the model after testing it. To_bool is a helper function used to round the given value."
   ]
  },
  {
   "cell_type": "code",
   "execution_count": 14,
   "metadata": {
    "scrolled": true
   },
   "outputs": [],
   "source": [
    "from sklearn.model_selection import train_test_split\n",
    "x = df[df.columns.drop('RainTomorrow')] # keep only the features\n",
    "y = df['RainTomorrow']\n",
    "\n",
    "x_train, x_test, y_train, y_test = train_test_split(x, y, test_size=0.2, random_state=20)"
   ]
  },
  {
   "cell_type": "markdown",
   "metadata": {},
   "source": [
    "We split our dataset into training and testing. For this I used a 20% test split. The built-in function I used shuffles the dataset before sampling. This is very important. Not doing so will induce bias in the model because the original dataframe is sorted by data and location. Therefore, if it samples the dataframe without shuffling, it will take the first 80% as training and leave the last 20% for testing. This last 20% will potentially be sampled from the same location and nearby dates."
   ]
  },
  {
   "cell_type": "code",
   "execution_count": 15,
   "metadata": {},
   "outputs": [],
   "source": [
    "x_train_np = np.array(x_train).T\n",
    "y_train_np = np.array(y_train).T\n",
    "\n",
    "epochs = 1000\n",
    "learning_rate = 0.05\n",
    "w, b = gradient_descent(x_train_np, y_train_np, epochs=epochs, learning_rate=learning_rate) # Train the model."
   ]
  },
  {
   "cell_type": "code",
   "execution_count": 16,
   "metadata": {},
   "outputs": [],
   "source": [
    "y_hat = feed_forward(w, b, np.array(x_test).T) # get the model's predicted output\n",
    "\n",
    "y_hat_bool = to_bool(y_hat.T) # convert y_hat_test into array of bools\n",
    "y_test_np = np.array(y_test) # actual labels"
   ]
  },
  {
   "cell_type": "code",
   "execution_count": 17,
   "metadata": {},
   "outputs": [
    {
     "name": "stdout",
     "output_type": "stream",
     "text": [
      "The model's accuracy using 1000 epochs and a 0.050 learning rate is 0.811\n"
     ]
    }
   ],
   "source": [
    "accuracy = get_accuracy(y=y_test_np, y_hat=y_hat_bool)\n",
    "print(\"The model's accuracy using %s epochs and a %.3f learning rate is %.3f\" % (epochs, learning_rate, accuracy))"
   ]
  },
  {
   "cell_type": "markdown",
   "metadata": {},
   "source": [
    "# Exploring Gradient Descent"
   ]
  },
  {
   "cell_type": "markdown",
   "metadata": {},
   "source": [
    "In the previous section, we ran gradient descent with a pre-defined learning rate.\n",
    "\n",
    "Let's see how the learning rate affects the way with which the model converges towards the minimum."
   ]
  },
  {
   "cell_type": "code",
   "execution_count": 18,
   "metadata": {},
   "outputs": [],
   "source": [
    "def modified_gradient_descent(X, Y, epochs, learning_rate):\n",
    "    n_training, n_weights = np.array(x_train).shape\n",
    "    w, b = initialize(dim=n_weights)\n",
    "    costs = []\n",
    "    for i in range(epochs):\n",
    "        y_hat = feed_forward(w, b, X)\n",
    "        cost = -(1 / n_training) * cross_entropy(y_hat, Y)\n",
    "        costs.append(cost)\n",
    "        dz = y_hat - Y\n",
    "        dw = (1 / n_training) * np.dot(X, dz.T)\n",
    "        db = (1 / n_training) * np.sum(dz)\n",
    "        w = w - learning_rate * dw\n",
    "        b = b - learning_rate * db\n",
    "    \n",
    "    return costs"
   ]
  },
  {
   "cell_type": "markdown",
   "metadata": {},
   "source": [
    "We introduce modified_gradient_decent which returns the \"history\" of costs in each epoch."
   ]
  },
  {
   "cell_type": "code",
   "execution_count": 19,
   "metadata": {},
   "outputs": [],
   "source": [
    "learning_rates = [0.5, 0.1, 0.01, 0.001, 0.0001]\n",
    "\n",
    "\n",
    "costs_per_learning_rate = []\n",
    "\n",
    "# Run gradient descent for each learning_rate and return the stored costs\n",
    "for learning_rate in learning_rates:\n",
    "    costs = modified_gradient_descent(x_train_np, y_train_np, epochs=epochs, learning_rate=learning_rate)\n",
    "    costs_per_learning_rate.append(costs)"
   ]
  },
  {
   "cell_type": "code",
   "execution_count": 28,
   "metadata": {},
   "outputs": [
    {
     "data": {
      "image/png": "[encoded data removed]",
      "text/plain": [
       "<Figure size 1440x720 with 1 Axes>"
      ]
     },
     "metadata": {
      "needs_background": "light"
     },
     "output_type": "display_data"
    }
   ],
   "source": [
    "plt.rcParams[\"figure.figsize\"] = (20,10)\n",
    "\n",
    "for learning_rate, costs in zip(learning_rates, costs_per_learning_rate):\n",
    "    plt.plot(costs, label='Learning rate %s' % learning_rate)\n",
    "\n",
    "plt.legend(prop={'size': 12})\n",
    "plt.show()"
   ]
  },
  {
   "cell_type": "markdown",
   "metadata": {},
   "source": [
    "From the plot, we notice that the lower the learning rate is the slower the function is to converge.\n",
    "\n",
    "Let's see what happens when we use a bigger learning rate"
   ]
  },
  {
   "cell_type": "code",
   "execution_count": 30,
   "metadata": {},
   "outputs": [],
   "source": [
    "learning_rate = 5\n",
    "\n",
    "# Run gradient descent for learning rate of 5\n",
    "costs = modified_gradient_descent(x_train_np, y_train_np, epochs=epochs, learning_rate=learning_rate)"
   ]
  },
  {
   "cell_type": "code",
   "execution_count": 31,
   "metadata": {},
   "outputs": [
    {
     "data": {
      "image/png": "[encoded data removed]",
      "text/plain": [
       "<Figure size 1440x720 with 1 Axes>"
      ]
     },
     "metadata": {
      "needs_background": "light"
     },
     "output_type": "display_data"
    }
   ],
   "source": [
    "plt.plot(costs, label='Learning rate: 5')\n",
    "\n",
    "plt.legend(prop={'size': 12})\n",
    "plt.show()"
   ]
  },
  {
   "cell_type": "markdown",
   "metadata": {},
   "source": [
    "As we can see, the cost oscillates a lot. This is because our gradient descent algorithm constantly misses the minimum because of the high learning rate. Therefore, blindly increasing the learning rate will not necessarily result in faster/better models."
   ]
  },
  {
   "cell_type": "markdown",
   "metadata": {},
   "source": [
    "# Write tests to csv"
   ]
  },
  {
   "cell_type": "code",
   "execution_count": 64,
   "metadata": {},
   "outputs": [],
   "source": [
    "test_df = x_test.copy() # copy features from test rows\n",
    "test_df.loc[:, 'RainTomorrow'] = y_test # add labels\n",
    "\n",
    "test_df.to_csv('test_results.csv')"
   ]
  }
 ],
 "metadata": {
  "kernelspec": {
   "display_name": "Python 3",
   "language": "python",
   "name": "python3"
  },
  "language_info": {
   "codemirror_mode": {
    "name": "ipython",
    "version": 3
   },
   "file_extension": ".py",
   "mimetype": "text/x-python",
   "name": "python",
   "nbconvert_exporter": "python",
   "pygments_lexer": "ipython3",
   "version": "3.7.1"
  }
 },
 "nbformat": 4,
 "nbformat_minor": 2
}
